{
 "cells": [
  {
   "cell_type": "code",
   "execution_count": 41,
   "metadata": {},
   "outputs": [],
   "source": [
    "import numpy as np\n",
    "import os\n",
    "import cv2\n",
    "import scipy.misc\n",
    "from random import shuffle\n",
    "from keras.utils import np_utils"
   ]
  },
  {
   "cell_type": "markdown",
   "metadata": {},
   "source": [
    "### Enter Pathname to make Bottleneck features"
   ]
  },
  {
   "cell_type": "code",
   "execution_count": 42,
   "metadata": {},
   "outputs": [],
   "source": [
    "pathname='/home/shivam/Basic dog breed /dogImages/valid'"
   ]
  },
  {
   "cell_type": "code",
   "execution_count": 43,
   "metadata": {},
   "outputs": [],
   "source": [
    "dictlabels={}\n",
    "for labelname,label in enumerate(os.listdir(pathname)):\n",
    "    dictlabels[label]=labelname"
   ]
  },
  {
   "cell_type": "code",
   "execution_count": 44,
   "metadata": {},
   "outputs": [],
   "source": [
    "def getimageandlabel(path):\n",
    "    '''Function\n",
    "     which resizes image and returns its array and label '''\n",
    "    arr=cv2.imread(path)\n",
    "    arr=scipy.misc.imresize(arr,(224,224,3))\n",
    "    label=dictlabels[path.split('/')[-2]]\n",
    "    return arr,label\n",
    "  "
   ]
  },
  {
   "cell_type": "code",
   "execution_count": 45,
   "metadata": {},
   "outputs": [],
   "source": [
    "def entireimagesandlabels(paths):\n",
    "    '''returns array and label for given directory'''\n",
    "    featureslist=[]\n",
    "    labelslist=[]\n",
    "    for path in paths:\n",
    "        b,c=getimageandlabel(path)\n",
    "        featureslist.append(b)\n",
    "        labelslist.append(c)\n",
    "    return np.array(featureslist),np.array(labelslist)    \n",
    "    "
   ]
  },
  {
   "cell_type": "code",
   "execution_count": 46,
   "metadata": {},
   "outputs": [],
   "source": [
    "def getallfilepaths(path):\n",
    "    paths=[]\n",
    "    for path, subdirs, files in os.walk(path):\n",
    "        for name in files:\n",
    "            paths.append(os.path.join(path, name))\n",
    "    shuffle(paths)\n",
    "    return paths"
   ]
  },
  {
   "cell_type": "code",
   "execution_count": 47,
   "metadata": {},
   "outputs": [
    {
     "name": "stderr",
     "output_type": "stream",
     "text": [
      "/usr/local/lib/python2.7/dist-packages/ipykernel_launcher.py:5: DeprecationWarning: `imresize` is deprecated!\n",
      "`imresize` is deprecated in SciPy 1.0.0, and will be removed in 1.2.0.\n",
      "Use ``skimage.transform.resize`` instead.\n",
      "  \"\"\"\n"
     ]
    }
   ],
   "source": [
    "x_valid,y_valid=entireimagesandlabels(getallfilepaths(pathname))"
   ]
  },
  {
   "cell_type": "markdown",
   "metadata": {},
   "source": [
    "Importing and loading VGG model"
   ]
  },
  {
   "cell_type": "code",
   "execution_count": 48,
   "metadata": {},
   "outputs": [],
   "source": [
    "from keras.applications import VGG16"
   ]
  },
  {
   "cell_type": "code",
   "execution_count": 49,
   "metadata": {},
   "outputs": [],
   "source": [
    "model = VGG16(include_top=False,weights='imagenet',input_shape=(224,224,3))"
   ]
  },
  {
   "cell_type": "code",
   "execution_count": 50,
   "metadata": {},
   "outputs": [],
   "source": [
    "from keras.applications.vgg16 import preprocess_input"
   ]
  },
  {
   "cell_type": "code",
   "execution_count": 51,
   "metadata": {},
   "outputs": [
    {
     "name": "stderr",
     "output_type": "stream",
     "text": [
      "/usr/local/lib/python2.7/dist-packages/ipykernel_launcher.py:2: DeprecationWarning: `imresize` is deprecated!\n",
      "`imresize` is deprecated in SciPy 1.0.0, and will be removed in 1.2.0.\n",
      "Use ``skimage.transform.resize`` instead.\n",
      "  \n"
     ]
    }
   ],
   "source": [
    "big_x_train = np.array([scipy.misc.imresize(x_valid[i], (224, 224, 3)) \n",
    "                            for i in range(0, len(x_valid))]).astype('float32')"
   ]
  },
  {
   "cell_type": "code",
   "execution_count": 52,
   "metadata": {},
   "outputs": [
    {
     "name": "stdout",
     "output_type": "stream",
     "text": [
      "data preprocessed for VGG input\n"
     ]
    }
   ],
   "source": [
    "vgg_input_train = preprocess_input(big_x_train)#Input data to be preprocessed for feeding to VGG\n",
    "print \"data preprocessed for VGG input\""
   ]
  },
  {
   "cell_type": "code",
   "execution_count": 53,
   "metadata": {},
   "outputs": [
    {
     "name": "stdout",
     "output_type": "stream",
     "text": [
      "bottleneck features saved \n"
     ]
    }
   ],
   "source": [
    "features = model.predict(vgg_input_train)\n",
    "features = np.squeeze(features)\n",
    "np.savez('input_vgg', features=features)\n",
    "print('bottleneck features saved ')"
   ]
  },
  {
   "cell_type": "code",
   "execution_count": null,
   "metadata": {},
   "outputs": [],
   "source": []
  }
 ],
 "metadata": {
  "kernelspec": {
   "display_name": "Python 2",
   "language": "python",
   "name": "python2"
  },
  "language_info": {
   "codemirror_mode": {
    "name": "ipython",
    "version": 2
   },
   "file_extension": ".py",
   "mimetype": "text/x-python",
   "name": "python",
   "nbconvert_exporter": "python",
   "pygments_lexer": "ipython2",
   "version": "2.7.12"
  }
 },
 "nbformat": 4,
 "nbformat_minor": 2
}
